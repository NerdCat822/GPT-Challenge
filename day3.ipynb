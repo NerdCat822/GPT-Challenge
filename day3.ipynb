{
 "cells": [
  {
   "cell_type": "code",
   "execution_count": 1,
   "id": "b6a9bce5",
   "metadata": {},
   "outputs": [],
   "source": [
    "# 필요한 라이브러리 import\n",
    "from langchain.chains import ConversationChain\n",
    "from langchain.memory import ConversationBufferMemory\n",
    "from langchain.prompts import FewShotPromptTemplate, PromptTemplate\n",
    "from langchain_openai import ChatOpenAI\n",
    "from langchain_core.prompts import ChatPromptTemplate\n",
    "from langchain_core.runnables import RunnablePassthrough\n",
    "from langchain_core.output_parsers import StrOutputParser\n",
    "import os\n",
    "\n",
    "# OpenAI API 키 설정 (환경변수에서 가져오기)\n",
    "# os.environ[\"OPENAI_API_KEY\"] = \"your-api-key-here\"\n"
   ]
  },
  {
   "cell_type": "code",
   "execution_count": 2,
   "id": "743edfb8",
   "metadata": {},
   "outputs": [],
   "source": [
    "# FewShot 예시 정의\n",
    "examples = [\n",
    "    {\n",
    "        \"input\": \"탑건\",\n",
    "        \"output\": \"🛩️👨‍✈️🔥\"\n",
    "    },\n",
    "    {\n",
    "        \"input\": \"대부\", \n",
    "        \"output\": \"👨‍👨‍👦🔫🍝\"\n",
    "    },\n",
    "    {\n",
    "        \"input\": \"어벤져스\",\n",
    "        \"output\": \"🦸‍♂️💥⚡\"\n",
    "    },\n",
    "    {\n",
    "        \"input\": \"타이타닉\",\n",
    "        \"output\": \"🚢💔🌊\"\n",
    "    }\n",
    "]\n",
    "\n",
    "# 프롬프트 템플릿 정의\n",
    "example_prompt = PromptTemplate(\n",
    "    input_variables=[\"input\", \"output\"],\n",
    "    template=\"영화: {input}\\n이모티콘: {output}\"\n",
    ")\n",
    "\n",
    "# FewShot 프롬프트 템플릿 생성\n",
    "few_shot_prompt = FewShotPromptTemplate(\n",
    "    examples=examples,\n",
    "    example_prompt=example_prompt,\n",
    "    prefix=\"다음 영화 제목을 세 개의 이모티콘으로 표현해주세요. 항상 정확히 세 개의 이모티콘만 사용하세요:\",\n",
    "    suffix=\"영화: {input}\\n이모티콘:\",\n",
    "    input_variables=[\"input\"]\n",
    ")\n"
   ]
  },
  {
   "cell_type": "code",
   "execution_count": 3,
   "id": "68c8225a",
   "metadata": {},
   "outputs": [
    {
     "name": "stdout",
     "output_type": "stream",
     "text": [
      "영화 이모티콘 변환 체인이 준비되었습니다!\n"
     ]
    },
    {
     "name": "stderr",
     "output_type": "stream",
     "text": [
      "/tmp/ipykernel_7775/2552589832.py:3: LangChainDeprecationWarning: Please see the migration guide at: https://python.langchain.com/docs/versions/migrating_memory/\n",
      "  memory = ConversationBufferMemory(return_messages=True)\n"
     ]
    }
   ],
   "source": [
    "# LLM과 메모리 초기화\n",
    "llm = ChatOpenAI(model=\"gpt-3.5-turbo\", temperature=0)\n",
    "memory = ConversationBufferMemory(return_messages=True)\n",
    "\n",
    "# LCEL 체인 구성\n",
    "def create_movie_emoji_chain():\n",
    "    # 프롬프트를 문자열로 변환\n",
    "    prompt_template = few_shot_prompt.format(input=\"{input}\")\n",
    "    \n",
    "    # ChatPromptTemplate으로 변환\n",
    "    chat_prompt = ChatPromptTemplate.from_template(prompt_template)\n",
    "    \n",
    "    # LCEL 체인 구성\n",
    "    chain = (\n",
    "        {\"input\": RunnablePassthrough()}\n",
    "        | chat_prompt\n",
    "        | llm\n",
    "        | StrOutputParser()\n",
    "    )\n",
    "    \n",
    "    return chain\n",
    "\n",
    "# 체인 생성\n",
    "movie_emoji_chain = create_movie_emoji_chain()\n",
    "\n",
    "print(\"영화 이모티콘 변환 체인이 준비되었습니다!\")\n"
   ]
  },
  {
   "cell_type": "code",
   "execution_count": 4,
   "id": "1fd9bbd6",
   "metadata": {},
   "outputs": [
    {
     "name": "stdout",
     "output_type": "stream",
     "text": [
      "영화: 인터스텔라\n",
      "이모티콘: 🚀🌌⏳\n",
      "\n",
      "==================================================\n",
      "\n",
      "영화: 해리포터\n",
      "이모티콘: ⚡🧙‍♂️🔮\n"
     ]
    }
   ],
   "source": [
    "# 첫 번째 영화 테스트\n",
    "movie1 = \"인터스텔라\"\n",
    "result1 = movie_emoji_chain.invoke({\"input\": movie1})\n",
    "print(f\"영화: {movie1}\")\n",
    "print(f\"이모티콘: {result1}\")\n",
    "\n",
    "# 메모리에 대화 저장\n",
    "memory.save_context({\"input\": f\"영화: {movie1}\"}, {\"output\": f\"이모티콘: {result1}\"})\n",
    "\n",
    "print(\"\\n\" + \"=\"*50 + \"\\n\")\n",
    "\n",
    "# 두 번째 영화 테스트  \n",
    "movie2 = \"해리포터\"\n",
    "result2 = movie_emoji_chain.invoke({\"input\": movie2})\n",
    "print(f\"영화: {movie2}\")\n",
    "print(f\"이모티콘: {result2}\")\n",
    "\n",
    "# 메모리에 대화 저장\n",
    "memory.save_context({\"input\": f\"영화: {movie2}\"}, {\"output\": f\"이모티콘: {result2}\"})\n"
   ]
  },
  {
   "cell_type": "code",
   "execution_count": 5,
   "id": "89274cb2",
   "metadata": {},
   "outputs": [
    {
     "name": "stdout",
     "output_type": "stream",
     "text": [
      "=== 메모리 테스트 ===\n",
      "이전에 질문한 영화들을 확인해보겠습니다:\n",
      "\n",
      "저장된 대화 내용:\n",
      "1. 영화: 인터스텔라\n",
      "2. 이모티콘: 🚀🌌⏳\n",
      "3. 영화: 해리포터\n",
      "4. 이모티콘: ⚡🧙‍♂️🔮\n",
      "\n",
      "==================================================\n",
      "\n",
      "질문: 제가 처음에 질문한 영화는 무엇인가요?\n",
      "답변: 인터스텔라입니다.\n"
     ]
    }
   ],
   "source": [
    "# 메모리 기능 테스트 - 이전에 질문한 영화들 확인\n",
    "print(\"=== 메모리 테스트 ===\")\n",
    "print(\"이전에 질문한 영화들을 확인해보겠습니다:\\n\")\n",
    "\n",
    "# 메모리 내용 출력\n",
    "memory_variables = memory.load_memory_variables({})\n",
    "print(\"저장된 대화 내용:\")\n",
    "for i, message in enumerate(memory_variables['history']):\n",
    "    print(f\"{i+1}. {message.content}\")\n",
    "\n",
    "print(\"\\n\" + \"=\"*50 + \"\\n\")\n",
    "\n",
    "# 메모리를 사용한 질문 체인 생성\n",
    "def create_memory_chain():\n",
    "    from langchain_core.prompts import ChatPromptTemplate\n",
    "    \n",
    "    # 메모리와 함께 사용할 프롬프트\n",
    "    memory_prompt = ChatPromptTemplate.from_template(\"\"\"\n",
    "    다음은 이전 대화 내용입니다:\n",
    "    {history}\n",
    "    \n",
    "    질문: {question}\n",
    "    답변:\"\"\")\n",
    "    \n",
    "    # 메모리를 포함한 체인\n",
    "    chain = (\n",
    "        {\"history\": lambda x: memory.load_memory_variables({})['history'], \n",
    "         \"question\": RunnablePassthrough()}\n",
    "        | memory_prompt\n",
    "        | llm\n",
    "        | StrOutputParser()\n",
    "    )\n",
    "    \n",
    "    return chain\n",
    "\n",
    "# 메모리 체인 생성 및 테스트\n",
    "memory_chain = create_memory_chain()\n",
    "\n",
    "# 이전에 질문한 영화에 대해 물어보기\n",
    "question = \"제가 처음에 질문한 영화는 무엇인가요?\"\n",
    "answer = memory_chain.invoke(question)\n",
    "print(f\"질문: {question}\")\n",
    "print(f\"답변: {answer}\")\n"
   ]
  }
 ],
 "metadata": {
  "kernelspec": {
   "display_name": "langchain-kr",
   "language": "python",
   "name": "python3"
  },
  "language_info": {
   "codemirror_mode": {
    "name": "ipython",
    "version": 3
   },
   "file_extension": ".py",
   "mimetype": "text/x-python",
   "name": "python",
   "nbconvert_exporter": "python",
   "pygments_lexer": "ipython3",
   "version": "3.11.11"
  }
 },
 "nbformat": 4,
 "nbformat_minor": 5
}
